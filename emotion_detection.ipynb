{
  "cells": [
    {
      "cell_type": "markdown",
      "metadata": {
        "id": "view-in-github",
        "colab_type": "text"
      },
      "source": [
        "<a href=\"https://colab.research.google.com/github/roghayefazli/emotion-detection-from-text/blob/main/emotion_detection.ipynb\" target=\"_parent\"><img src=\"https://colab.research.google.com/assets/colab-badge.svg\" alt=\"Open In Colab\"/></a>"
      ]
    },
    {
      "cell_type": "code",
      "execution_count": null,
      "metadata": {
        "id": "d4gN0fx4WVRM"
      },
      "outputs": [],
      "source": [
        "import os\n",
        "from nltk.corpus import stopwords\n",
        "from nltk import word_tokenize\n",
        "from string import punctuation\n",
        "import random"
      ]
    },
    {
      "cell_type": "code",
      "source": [
        "from google.colab import drive\n",
        "drive.mount('/content/drive')"
      ],
      "metadata": {
        "id": "mUbSBKtcYPXk"
      },
      "execution_count": null,
      "outputs": []
    },
    {
      "cell_type": "code",
      "execution_count": null,
      "metadata": {
        "colab": {
          "base_uri": "https://localhost:8080/"
        },
        "id": "CTDtKnHhWVRN",
        "outputId": "692e6eb9-e54c-4b4a-b4f0-cd504d7e63c2"
      },
      "outputs": [
        {
          "output_type": "stream",
          "name": "stderr",
          "text": [
            "[nltk_data] Downloading package punkt to /root/nltk_data...\n",
            "[nltk_data]   Package punkt is already up-to-date!\n"
          ]
        },
        {
          "output_type": "execute_result",
          "data": {
            "text/plain": [
              "True"
            ]
          },
          "metadata": {},
          "execution_count": 65
        }
      ],
      "source": [
        "import nltk\n",
        "nltk.download('punkt')"
      ]
    },
    {
      "cell_type": "code",
      "execution_count": null,
      "metadata": {
        "colab": {
          "base_uri": "https://localhost:8080/",
          "height": 36
        },
        "id": "hUjrs5sEWVRO",
        "outputId": "022483d5-3f93-4d98-f077-2089865b4b0d"
      },
      "outputs": [
        {
          "output_type": "execute_result",
          "data": {
            "text/plain": [
              "'salam'"
            ],
            "application/vnd.google.colaboratory.intrinsic+json": {
              "type": "string"
            }
          },
          "metadata": {},
          "execution_count": 66
        }
      ],
      "source": [
        "s = str.maketrans('', '', punctuation)\n",
        "a = 'salam!@'\n",
        "a.translate(s)"
      ]
    },
    {
      "cell_type": "code",
      "execution_count": null,
      "metadata": {
        "id": "iwjB9QWBWVRO"
      },
      "outputs": [],
      "source": [
        "stop_words = stopwords.words('english')"
      ]
    },
    {
      "cell_type": "code",
      "source": [
        "from zipfile import ZipFile\n",
        "import os\n",
        "\n",
        "# Define the path to the zip file\n",
        "zip_file_path = '/content/data.zip'\n",
        "\n",
        "# Define the directory to extract the zip file\n",
        "extract_dir = '/content/'\n",
        "\n",
        "# Create the directory if it does not exist\n",
        "os.makedirs(extract_dir, exist_ok=True)\n",
        "\n",
        "# Extract the zip file\n",
        "with ZipFile(zip_file_path, 'r') as zip_ref:\n",
        "    zip_ref.extractall(extract_dir)\n",
        "\n",
        "# List the files in the extracted directory\n",
        "print(os.listdir(extract_dir))"
      ],
      "metadata": {
        "colab": {
          "base_uri": "https://localhost:8080/"
        },
        "id": "tfhxvpczfloi",
        "outputId": "2a434ac8-69ee-4060-858d-839058198181"
      },
      "execution_count": null,
      "outputs": [
        {
          "output_type": "stream",
          "name": "stdout",
          "text": [
            "['data']\n"
          ]
        }
      ]
    },
    {
      "cell_type": "code",
      "execution_count": null,
      "metadata": {
        "id": "rzRoqVYCWVRP",
        "outputId": "692c58ec-fd7c-466d-9015-ffa7676377b9",
        "colab": {
          "base_uri": "https://localhost:8080/"
        }
      },
      "outputs": [
        {
          "output_type": "execute_result",
          "data": {
            "text/plain": [
              "1000"
            ]
          },
          "metadata": {},
          "execution_count": 68
        }
      ],
      "source": [
        "negative_documents = []\n",
        "max_len_negative = 0\n",
        "for file in os.listdir('data/neg'):\n",
        "    with open('data/neg/' + file) as f:\n",
        "        text = f.read()\n",
        "        tokens = word_tokenize(text)\n",
        "        translator = str.maketrans('', '', punctuation)\n",
        "        tokens = [w.translate(translator) for w in tokens]\n",
        "        tokens = [w for w in tokens if not w in stop_words]\n",
        "        if len(tokens) > max_len_negative:\n",
        "            max_len_negative = len(tokens)\n",
        "        negative_documents.append(' '.join(tokens))\n",
        "len(negative_documents)"
      ]
    },
    {
      "cell_type": "code",
      "execution_count": null,
      "metadata": {
        "id": "IMXni4F_WVRP",
        "outputId": "bd447927-1a72-429e-f698-9ebac499e8b5",
        "colab": {
          "base_uri": "https://localhost:8080/"
        }
      },
      "outputs": [
        {
          "output_type": "execute_result",
          "data": {
            "text/plain": [
              "1400"
            ]
          },
          "metadata": {},
          "execution_count": 69
        }
      ],
      "source": [
        "max_len_negative"
      ]
    },
    {
      "cell_type": "code",
      "execution_count": null,
      "metadata": {
        "id": "SJilSPEZWVRP",
        "outputId": "c27dbdd1-fd73-4d22-df7f-517e11e391ef",
        "colab": {
          "base_uri": "https://localhost:8080/"
        }
      },
      "outputs": [
        {
          "output_type": "execute_result",
          "data": {
            "text/plain": [
              "1000"
            ]
          },
          "metadata": {},
          "execution_count": 70
        }
      ],
      "source": [
        "positive_documents = []\n",
        "max_len_positive = 0\n",
        "for file in os.listdir('data/pos'):\n",
        "    with open('data/pos/' + file) as f:\n",
        "        text = f.read()\n",
        "        tokens = word_tokenize(text)\n",
        "        translator = str.maketrans('', '', punctuation)\n",
        "        tokens = [w.translate(translator) for w in tokens]\n",
        "        tokens = [w for w in tokens if not w in stop_words]\n",
        "        if len(tokens) > max_len_positive:\n",
        "            max_len_positive = len(tokens)\n",
        "        positive_documents.append(' '.join(tokens))\n",
        "len(positive_documents)"
      ]
    },
    {
      "cell_type": "code",
      "execution_count": null,
      "metadata": {
        "id": "aNjMxYTSWVRP",
        "outputId": "c5b689e8-30ee-4bf3-d6fd-b5adf3bbe4ce",
        "colab": {
          "base_uri": "https://localhost:8080/"
        }
      },
      "outputs": [
        {
          "output_type": "execute_result",
          "data": {
            "text/plain": [
              "1693"
            ]
          },
          "metadata": {},
          "execution_count": 71
        }
      ],
      "source": [
        "max_len_positive"
      ]
    },
    {
      "cell_type": "code",
      "execution_count": null,
      "metadata": {
        "id": "GFmpQBVZWVRQ"
      },
      "outputs": [],
      "source": [
        "max_len = max(max_len_negative, max_len_positive)"
      ]
    },
    {
      "cell_type": "code",
      "execution_count": null,
      "metadata": {
        "id": "yGaKEKMyWVRQ"
      },
      "outputs": [],
      "source": [
        "random.shuffle(negative_documents)\n",
        "random.shuffle(positive_documents)"
      ]
    },
    {
      "cell_type": "code",
      "execution_count": null,
      "metadata": {
        "id": "nvOA7klFWVRQ"
      },
      "outputs": [],
      "source": [
        "X_train = negative_documents[:800] + positive_documents[:800]"
      ]
    },
    {
      "cell_type": "code",
      "execution_count": null,
      "metadata": {
        "id": "unKJXV3dWVRQ",
        "outputId": "f64a05ee-d1ee-4859-a0f4-7f5f42c3e89a",
        "colab": {
          "base_uri": "https://localhost:8080/"
        }
      },
      "outputs": [
        {
          "output_type": "execute_result",
          "data": {
            "text/plain": [
              "1600"
            ]
          },
          "metadata": {},
          "execution_count": 75
        }
      ],
      "source": [
        "len(X_train)"
      ]
    },
    {
      "cell_type": "code",
      "execution_count": null,
      "metadata": {
        "id": "x0V12KNVWVRR"
      },
      "outputs": [],
      "source": [
        "y_train = [0 for _ in range(800)] + [1 for _ in range(800)]"
      ]
    },
    {
      "cell_type": "code",
      "execution_count": null,
      "metadata": {
        "id": "HOnln_DHWVRR",
        "outputId": "de4b1b08-95bd-4a51-e193-7c4aa10df497",
        "colab": {
          "base_uri": "https://localhost:8080/"
        }
      },
      "outputs": [
        {
          "output_type": "execute_result",
          "data": {
            "text/plain": [
              "1600"
            ]
          },
          "metadata": {},
          "execution_count": 77
        }
      ],
      "source": [
        "len(y_train)"
      ]
    },
    {
      "cell_type": "code",
      "execution_count": null,
      "metadata": {
        "id": "-Y9ZpDOYWVRR",
        "outputId": "ca885023-a1e9-4f29-8931-f53e1e35f77a",
        "colab": {
          "base_uri": "https://localhost:8080/"
        }
      },
      "outputs": [
        {
          "output_type": "execute_result",
          "data": {
            "text/plain": [
              "400"
            ]
          },
          "metadata": {},
          "execution_count": 78
        }
      ],
      "source": [
        "X_test = negative_documents[800:] + positive_documents[800:]\n",
        "len(X_test)"
      ]
    },
    {
      "cell_type": "code",
      "execution_count": null,
      "metadata": {
        "id": "9RXhKaHMWVRR"
      },
      "outputs": [],
      "source": [
        "y_test = [0 for _ in range(200)] + [1 for _ in range(200)]"
      ]
    },
    {
      "cell_type": "code",
      "execution_count": null,
      "metadata": {
        "id": "EwDHUxcwWVRS"
      },
      "outputs": [],
      "source": [
        "from tensorflow.keras.preprocessing.text import Tokenizer\n",
        "from tensorflow.keras.preprocessing.sequence import pad_sequences\n",
        "from tensorflow.keras.utils import plot_model\n",
        "from tensorflow.keras.models import Model\n",
        "from tensorflow.keras.layers import Input, Dense, Flatten, Embedding, Conv1D, MaxPool1D, Dropout\n",
        "from tensorflow.keras.layers import concatenate"
      ]
    },
    {
      "cell_type": "code",
      "execution_count": null,
      "metadata": {
        "id": "7j_EM_mNWVRS",
        "outputId": "1ef8f296-2d1e-4755-9b23-46ebd4f2f332",
        "colab": {
          "base_uri": "https://localhost:8080/"
        }
      },
      "outputs": [
        {
          "output_type": "execute_result",
          "data": {
            "text/plain": [
              "1693"
            ]
          },
          "metadata": {},
          "execution_count": 81
        }
      ],
      "source": [
        "max_len"
      ]
    },
    {
      "cell_type": "code",
      "execution_count": null,
      "metadata": {
        "id": "j-tEyRtGWVRS"
      },
      "outputs": [],
      "source": [
        "tokenizer = Tokenizer()\n",
        "tokenizer.fit_on_texts(X_train)"
      ]
    },
    {
      "cell_type": "code",
      "execution_count": null,
      "metadata": {
        "id": "cpo22WZ5WVRS"
      },
      "outputs": [],
      "source": [
        "import pickle\n",
        "with open('tokenizer.h5', 'wb') as f:\n",
        "    pickle.dump(tokenizer, f)"
      ]
    },
    {
      "cell_type": "code",
      "execution_count": null,
      "metadata": {
        "id": "eSQDY8YMWVRS",
        "outputId": "43c39a21-c334-499e-ff22-3f32a89c96ab",
        "colab": {
          "base_uri": "https://localhost:8080/"
        }
      },
      "outputs": [
        {
          "output_type": "execute_result",
          "data": {
            "text/plain": [
              "<keras.src.preprocessing.text.Tokenizer at 0x7ce61ee63790>"
            ]
          },
          "metadata": {},
          "execution_count": 35
        }
      ],
      "source": [
        "tokenizer"
      ]
    },
    {
      "cell_type": "code",
      "execution_count": null,
      "metadata": {
        "id": "ceYGTZ2LWVRS"
      },
      "outputs": [],
      "source": [
        "vocab_len = len(tokenizer.word_index) + 1"
      ]
    },
    {
      "cell_type": "code",
      "execution_count": null,
      "metadata": {
        "id": "M2M94FR8WVRT",
        "outputId": "e50cce2e-9ce3-417a-f983-556b979c5493",
        "colab": {
          "base_uri": "https://localhost:8080/"
        }
      },
      "outputs": [
        {
          "output_type": "execute_result",
          "data": {
            "text/plain": [
              "40289"
            ]
          },
          "metadata": {},
          "execution_count": 85
        }
      ],
      "source": [
        "vocab_len"
      ]
    },
    {
      "cell_type": "code",
      "execution_count": null,
      "metadata": {
        "id": "7WfGsbKQWVRT"
      },
      "outputs": [],
      "source": [
        "encoded = tokenizer.texts_to_sequences(X_train)"
      ]
    },
    {
      "cell_type": "code",
      "execution_count": null,
      "metadata": {
        "id": "hpY1X7zHWVRT",
        "outputId": "4a0d38c2-fc1c-4cef-9717-3f08d6867007",
        "colab": {
          "base_uri": "https://localhost:8080/"
        }
      },
      "outputs": [
        {
          "output_type": "execute_result",
          "data": {
            "text/plain": [
              "[2097,\n",
              " 209,\n",
              " 202,\n",
              " 6111,\n",
              " 3404,\n",
              " 5222,\n",
              " 6112,\n",
              " 1249,\n",
              " 2143,\n",
              " 545,\n",
              " 9213,\n",
              " 122,\n",
              " 14881,\n",
              " 315,\n",
              " 6471,\n",
              " 554,\n",
              " 3527,\n",
              " 203,\n",
              " 66,\n",
              " 6111,\n",
              " 181,\n",
              " 1394,\n",
              " 657,\n",
              " 4959,\n",
              " 7325,\n",
              " 14882,\n",
              " 2643,\n",
              " 4960,\n",
              " 2338,\n",
              " 78,\n",
              " 3,\n",
              " 29,\n",
              " 9,\n",
              " 108,\n",
              " 8474,\n",
              " 156,\n",
              " 622,\n",
              " 41,\n",
              " 23678,\n",
              " 1513,\n",
              " 4184,\n",
              " 4960,\n",
              " 538,\n",
              " 119,\n",
              " 338,\n",
              " 214,\n",
              " 18063,\n",
              " 475,\n",
              " 4730,\n",
              " 1736,\n",
              " 1,\n",
              " 131,\n",
              " 708,\n",
              " 1918,\n",
              " 3309,\n",
              " 147,\n",
              " 4960,\n",
              " 842,\n",
              " 2784,\n",
              " 3,\n",
              " 385,\n",
              " 2098,\n",
              " 775,\n",
              " 18064,\n",
              " 738,\n",
              " 1287,\n",
              " 1,\n",
              " 21,\n",
              " 3641,\n",
              " 2,\n",
              " 87,\n",
              " 15,\n",
              " 9214,\n",
              " 6472,\n",
              " 2339,\n",
              " 4961,\n",
              " 191,\n",
              " 1010,\n",
              " 288,\n",
              " 1104,\n",
              " 4960,\n",
              " 13,\n",
              " 623,\n",
              " 861,\n",
              " 2224,\n",
              " 843,\n",
              " 3,\n",
              " 3199,\n",
              " 15,\n",
              " 2643,\n",
              " 175,\n",
              " 255,\n",
              " 1,\n",
              " 52,\n",
              " 3405,\n",
              " 18,\n",
              " 12808,\n",
              " 7326,\n",
              " 404,\n",
              " 7,\n",
              " 1,\n",
              " 392,\n",
              " 554,\n",
              " 14883,\n",
              " 161,\n",
              " 2933,\n",
              " 2515,\n",
              " 3,\n",
              " 3642,\n",
              " 181,\n",
              " 83,\n",
              " 995,\n",
              " 3528,\n",
              " 12809,\n",
              " 4960,\n",
              " 215,\n",
              " 12809,\n",
              " 481,\n",
              " 33,\n",
              " 219,\n",
              " 437,\n",
              " 1315,\n",
              " 371,\n",
              " 1573,\n",
              " 74,\n",
              " 303,\n",
              " 65,\n",
              " 18,\n",
              " 563,\n",
              " 577,\n",
              " 1737,\n",
              " 18065,\n",
              " 18066,\n",
              " 177,\n",
              " 6111,\n",
              " 5223,\n",
              " 977,\n",
              " 227,\n",
              " 590,\n",
              " 4962,\n",
              " 8475,\n",
              " 18067,\n",
              " 4963,\n",
              " 14884,\n",
              " 2058,\n",
              " 1089,\n",
              " 190,\n",
              " 2274,\n",
              " 13,\n",
              " 55,\n",
              " 4960,\n",
              " 1394,\n",
              " 52,\n",
              " 23679,\n",
              " 10159,\n",
              " 6111,\n",
              " 2581,\n",
              " 23680,\n",
              " 1090,\n",
              " 57,\n",
              " 2,\n",
              " 23,\n",
              " 303,\n",
              " 302,\n",
              " 167,\n",
              " 385,\n",
              " 505,\n",
              " 1394,\n",
              " 23681,\n",
              " 3750,\n",
              " 9215,\n",
              " 320,\n",
              " 110,\n",
              " 1372,\n",
              " 288,\n",
              " 18068,\n",
              " 364,\n",
              " 545,\n",
              " 313,\n",
              " 120,\n",
              " 1198,\n",
              " 114,\n",
              " 1394,\n",
              " 95,\n",
              " 633,\n",
              " 3011,\n",
              " 302,\n",
              " 526,\n",
              " 844,\n",
              " 1985,\n",
              " 4731,\n",
              " 675,\n",
              " 12810,\n",
              " 18069,\n",
              " 995,\n",
              " 12811,\n",
              " 1738,\n",
              " 4960,\n",
              " 1919,\n",
              " 708,\n",
              " 578,\n",
              " 2144,\n",
              " 187,\n",
              " 1,\n",
              " 337,\n",
              " 89,\n",
              " 264,\n",
              " 1019,\n",
              " 7,\n",
              " 55,\n",
              " 60,\n",
              " 1487,\n",
              " 3099,\n",
              " 15,\n",
              " 4,\n",
              " 11295,\n",
              " 1860,\n",
              " 411,\n",
              " 538,\n",
              " 2393,\n",
              " 767,\n",
              " 371,\n",
              " 232,\n",
              " 58,\n",
              " 527,\n",
              " 4,\n",
              " 476,\n",
              " 767,\n",
              " 265,\n",
              " 23682,\n",
              " 1738,\n",
              " 4960,\n",
              " 1574,\n",
              " 12,\n",
              " 708,\n",
              " 229,\n",
              " 81,\n",
              " 6,\n",
              " 2394,\n",
              " 71,\n",
              " 14885,\n",
              " 554,\n",
              " 502,\n",
              " 144,\n",
              " 83,\n",
              " 465,\n",
              " 1738,\n",
              " 4960,\n",
              " 585,\n",
              " 708,\n",
              " 15,\n",
              " 2644,\n",
              " 2516,\n",
              " 278,\n",
              " 1738,\n",
              " 4960,\n",
              " 10160,\n",
              " 701,\n",
              " 1,\n",
              " 3529,\n",
              " 83,\n",
              " 2517,\n",
              " 14886,\n",
              " 6869,\n",
              " 204,\n",
              " 1739,\n",
              " 708,\n",
              " 19,\n",
              " 767,\n",
              " 371,\n",
              " 2,\n",
              " 2442,\n",
              " 940,\n",
              " 823,\n",
              " 4,\n",
              " 339,\n",
              " 30,\n",
              " 2785,\n",
              " 1740,\n",
              " 117,\n",
              " 2,\n",
              " 191,\n",
              " 2059,\n",
              " 3,\n",
              " 17,\n",
              " 830,\n",
              " 120,\n",
              " 4348,\n",
              " 5505,\n",
              " 115,\n",
              " 1,\n",
              " 1036,\n",
              " 1986,\n",
              " 1987,\n",
              " 723,\n",
              " 14887,\n",
              " 23683,\n",
              " 120,\n",
              " 57,\n",
              " 2707,\n",
              " 4961,\n",
              " 13,\n",
              " 50,\n",
              " 3,\n",
              " 220,\n",
              " 1394,\n",
              " 901,\n",
              " 690,\n",
              " 1140,\n",
              " 342,\n",
              " 845,\n",
              " 7809,\n",
              " 10161,\n",
              " 7810,\n",
              " 3200]"
            ]
          },
          "metadata": {},
          "execution_count": 87
        }
      ],
      "source": [
        "encoded[0]"
      ]
    },
    {
      "cell_type": "code",
      "execution_count": null,
      "metadata": {
        "id": "KAJHxWVmWVRT"
      },
      "outputs": [],
      "source": [
        "padded = pad_sequences(encoded, maxlen=max_len, padding='post')"
      ]
    },
    {
      "cell_type": "code",
      "execution_count": null,
      "metadata": {
        "id": "FOUpWawEWVRT",
        "outputId": "c0be67de-2690-4e3c-f751-fbecc0cc0881",
        "colab": {
          "base_uri": "https://localhost:8080/"
        }
      },
      "outputs": [
        {
          "output_type": "execute_result",
          "data": {
            "text/plain": [
              "(1600, 1693)"
            ]
          },
          "metadata": {},
          "execution_count": 89
        }
      ],
      "source": [
        "padded.shape"
      ]
    },
    {
      "cell_type": "code",
      "execution_count": null,
      "metadata": {
        "id": "TAyYofZLWVRU"
      },
      "outputs": [],
      "source": [
        "input1 = Input(shape=(max_len,))\n",
        "embedding1 = Embedding(vocab_len, 100)(input1)\n",
        "conv1 = Conv1D(filters=32, kernel_size=4, activation='relu')(embedding1)\n",
        "drop1 = Dropout(0.5)(conv1)\n",
        "pool1 = MaxPool1D(pool_size=2)(drop1)\n",
        "flat1 = Flatten()(pool1)\n",
        "dense1 = Dense(10, activation='relu')(flat1)\n",
        "output = Dense(1, activation='sigmoid')(dense1)"
      ]
    },
    {
      "cell_type": "code",
      "execution_count": null,
      "metadata": {
        "id": "-yCpNxFtWVRU"
      },
      "outputs": [],
      "source": [
        "model = Model(inputs=[input1], outputs=output)"
      ]
    },
    {
      "cell_type": "code",
      "execution_count": null,
      "metadata": {
        "id": "ARYWTJQRWVRU"
      },
      "outputs": [],
      "source": [
        "model.compile(loss='binary_crossentropy', optimizer='adam', metrics=['accuracy'])"
      ]
    },
    {
      "cell_type": "code",
      "execution_count": null,
      "metadata": {
        "id": "Q_OMyclvWVRU",
        "outputId": "27ced0d6-a090-47b5-b3f0-d21a6a16efdc",
        "colab": {
          "base_uri": "https://localhost:8080/"
        }
      },
      "outputs": [
        {
          "output_type": "stream",
          "name": "stdout",
          "text": [
            "Model: \"model_1\"\n",
            "_________________________________________________________________\n",
            " Layer (type)                Output Shape              Param #   \n",
            "=================================================================\n",
            " input_2 (InputLayer)        [(None, 1693)]            0         \n",
            "                                                                 \n",
            " embedding_1 (Embedding)     (None, 1693, 100)         4028900   \n",
            "                                                                 \n",
            " conv1d_1 (Conv1D)           (None, 1690, 32)          12832     \n",
            "                                                                 \n",
            " dropout_1 (Dropout)         (None, 1690, 32)          0         \n",
            "                                                                 \n",
            " max_pooling1d_1 (MaxPoolin  (None, 845, 32)           0         \n",
            " g1D)                                                            \n",
            "                                                                 \n",
            " flatten_1 (Flatten)         (None, 27040)             0         \n",
            "                                                                 \n",
            " dense_2 (Dense)             (None, 10)                270410    \n",
            "                                                                 \n",
            " dense_3 (Dense)             (None, 1)                 11        \n",
            "                                                                 \n",
            "=================================================================\n",
            "Total params: 4312153 (16.45 MB)\n",
            "Trainable params: 4312153 (16.45 MB)\n",
            "Non-trainable params: 0 (0.00 Byte)\n",
            "_________________________________________________________________\n"
          ]
        }
      ],
      "source": [
        "model.summary()"
      ]
    },
    {
      "cell_type": "code",
      "execution_count": null,
      "metadata": {
        "id": "aJOHWeCyWVRU"
      },
      "outputs": [],
      "source": [
        "encoded_test = tokenizer.texts_to_sequences(X_test)\n",
        "padded_test = pad_sequences(encoded_test, maxlen=max_len, padding='post')"
      ]
    },
    {
      "cell_type": "code",
      "execution_count": null,
      "metadata": {
        "id": "lISFwz0_WVRV",
        "outputId": "5d9d340c-b63c-4063-a31f-59c295ce7b67",
        "colab": {
          "base_uri": "https://localhost:8080/"
        }
      },
      "outputs": [
        {
          "output_type": "execute_result",
          "data": {
            "text/plain": [
              "(400, 1693)"
            ]
          },
          "metadata": {},
          "execution_count": 95
        }
      ],
      "source": [
        "padded_test.shape"
      ]
    },
    {
      "cell_type": "code",
      "execution_count": null,
      "metadata": {
        "id": "iURLFQWOWVRV"
      },
      "outputs": [],
      "source": [
        "import numpy as np"
      ]
    },
    {
      "cell_type": "code",
      "execution_count": null,
      "metadata": {
        "id": "9VtR92b4WVRV",
        "outputId": "54a49027-2d8f-4f6b-eb85-dcb2538d7b3e",
        "colab": {
          "base_uri": "https://localhost:8080/"
        }
      },
      "outputs": [
        {
          "output_type": "stream",
          "name": "stdout",
          "text": [
            "Epoch 1/10\n",
            "80/80 [==============================] - 14s 162ms/step - loss: 0.6891 - accuracy: 0.5437 - val_loss: 0.6871 - val_accuracy: 0.5575\n",
            "Epoch 2/10\n",
            "80/80 [==============================] - 13s 161ms/step - loss: 0.6019 - accuracy: 0.6681 - val_loss: 0.6041 - val_accuracy: 0.6250\n",
            "Epoch 3/10\n",
            "80/80 [==============================] - 13s 163ms/step - loss: 0.3956 - accuracy: 0.9300 - val_loss: 0.5232 - val_accuracy: 0.8450\n",
            "Epoch 4/10\n",
            "80/80 [==============================] - 13s 164ms/step - loss: 0.3121 - accuracy: 0.9831 - val_loss: 0.5177 - val_accuracy: 0.8125\n",
            "Epoch 5/10\n",
            "80/80 [==============================] - 13s 158ms/step - loss: 0.2787 - accuracy: 0.9969 - val_loss: 0.4960 - val_accuracy: 0.8375\n",
            "Epoch 6/10\n",
            "80/80 [==============================] - 13s 157ms/step - loss: 0.2593 - accuracy: 0.9994 - val_loss: 0.4907 - val_accuracy: 0.8325\n",
            "Epoch 7/10\n",
            "80/80 [==============================] - 13s 159ms/step - loss: 0.2425 - accuracy: 0.9987 - val_loss: 0.4766 - val_accuracy: 0.8450\n",
            "Epoch 8/10\n",
            "80/80 [==============================] - 14s 175ms/step - loss: 0.2279 - accuracy: 0.9994 - val_loss: 0.4619 - val_accuracy: 0.8375\n",
            "Epoch 9/10\n",
            "80/80 [==============================] - 13s 156ms/step - loss: 0.1189 - accuracy: 0.9994 - val_loss: 0.4772 - val_accuracy: 0.7800\n",
            "Epoch 10/10\n",
            "80/80 [==============================] - 12s 154ms/step - loss: 0.0120 - accuracy: 0.9975 - val_loss: 0.5002 - val_accuracy: 0.8075\n"
          ]
        }
      ],
      "source": [
        "r= model.fit([padded], np.array(y_train), epochs=10, batch_size=20, validation_data=([padded_test], np.array(y_test)))"
      ]
    },
    {
      "cell_type": "code",
      "source": [
        "import matplotlib.pyplot as plt\n",
        "plt.plot(r.history['accuracy'],label = 'accuracy')\n",
        "plt.plot(r.history['val_accuracy'],label = 'val_accuracy')\n",
        "plt.legend()\n",
        "plt.show()"
      ],
      "metadata": {
        "colab": {
          "base_uri": "https://localhost:8080/",
          "height": 430
        },
        "id": "bD0dzjktl79T",
        "outputId": "ae351e18-e550-46ac-ca71-2decb8bce7e8"
      },
      "execution_count": null,
      "outputs": [
        {
          "output_type": "display_data",
          "data": {
            "text/plain": [
              "<Figure size 640x480 with 1 Axes>"
            ],
            "image/png": "[encoded data removed]"
          },
          "metadata": {}
        }
      ]
    },
    {
      "cell_type": "code",
      "execution_count": null,
      "metadata": {
        "id": "lzE-45-8WVRV",
        "colab": {
          "base_uri": "https://localhost:8080/"
        },
        "outputId": "d9046699-81e3-4045-8827-ef5382e45fac"
      },
      "outputs": [
        {
          "output_type": "stream",
          "name": "stderr",
          "text": [
            "/usr/local/lib/python3.10/dist-packages/keras/src/engine/training.py:3103: UserWarning: You are saving your model as an HDF5 file via `model.save()`. This file format is considered legacy. We recommend using instead the native Keras format, e.g. `model.save('my_model.keras')`.\n",
            "  saving_api.save_model(\n"
          ]
        }
      ],
      "source": [
        "model.save('textcnn.h5')"
      ]
    },
    {
      "cell_type": "code",
      "execution_count": null,
      "metadata": {
        "id": "VZuJg3-3WVRV",
        "outputId": "25631fc1-9124-41ca-cfe3-b31a02b43552",
        "colab": {
          "base_uri": "https://localhost:8080/",
          "height": 865
        }
      },
      "outputs": [
        {
          "output_type": "execute_result",
          "data": {
            "image/png": "[encoded data removed]",
            "text/plain": [
              "<IPython.core.display.Image object>"
            ]
          },
          "metadata": {},
          "execution_count": 52
        }
      ],
      "source": [
        "plot_model(model, show_shapes=True)"
      ]
    },
    {
      "cell_type": "code",
      "execution_count": null,
      "metadata": {
        "id": "5ZHpQAvsWVRW"
      },
      "outputs": [],
      "source": [
        "from tensorflow.keras.models import load_model"
      ]
    },
    {
      "cell_type": "code",
      "execution_count": null,
      "metadata": {
        "id": "hNg-baVTWVRW"
      },
      "outputs": [],
      "source": [
        "model = load_model('textcnn.h5')"
      ]
    },
    {
      "cell_type": "code",
      "execution_count": null,
      "metadata": {
        "id": "JIgddOBMWVRb"
      },
      "outputs": [],
      "source": [
        "with open('tokenizer.h5', 'rb') as f:\n",
        "    tokenizer = pickle.load(f)"
      ]
    },
    {
      "cell_type": "code",
      "execution_count": null,
      "metadata": {
        "id": "rPHwq0QNWVRb",
        "outputId": "0e2f20e2-198d-45ce-9e35-b55375ceee2e",
        "colab": {
          "base_uri": "https://localhost:8080/"
        }
      },
      "outputs": [
        {
          "output_type": "execute_result",
          "data": {
            "text/plain": [
              "{'film': 1,\n",
              " 'nt': 2,\n",
              " 'movie': 3,\n",
              " 'one': 4,\n",
              " 'like': 5,\n",
              " 'even': 6,\n",
              " 'good': 7,\n",
              " 'time': 8,\n",
              " 'would': 9,\n",
              " 'story': 10,\n",
              " 'much': 11,\n",
              " 'character': 12,\n",
              " 'also': 13,\n",
              " 'get': 14,\n",
              " 'two': 15,\n",
              " 'characters': 16,\n",
              " 'first': 17,\n",
              " 'see': 18,\n",
              " 'well': 19,\n",
              " 'way': 20,\n",
              " 'could': 21,\n",
              " 'make': 22,\n",
              " 'really': 23,\n",
              " 'films': 24,\n",
              " 'life': 25,\n",
              " 'little': 26,\n",
              " 'people': 27,\n",
              " 'plot': 28,\n",
              " 'scene': 29,\n",
              " 'never': 30,\n",
              " 'bad': 31,\n",
              " 'man': 32,\n",
              " 'best': 33,\n",
              " 'many': 34,\n",
              " 'scenes': 35,\n",
              " 'new': 36,\n",
              " 'know': 37,\n",
              " 'movies': 38,\n",
              " 'great': 39,\n",
              " 'another': 40,\n",
              " 'love': 41,\n",
              " 'director': 42,\n",
              " 'action': 43,\n",
              " 'us': 44,\n",
              " 'still': 45,\n",
              " 'back': 46,\n",
              " 'go': 47,\n",
              " 'seems': 48,\n",
              " 'something': 49,\n",
              " 'end': 50,\n",
              " 'made': 51,\n",
              " 'work': 52,\n",
              " 'makes': 53,\n",
              " 'big': 54,\n",
              " 'world': 55,\n",
              " 'however': 56,\n",
              " 'every': 57,\n",
              " 'enough': 58,\n",
              " 'though': 59,\n",
              " 'seen': 60,\n",
              " 'better': 61,\n",
              " 'around': 62,\n",
              " 'going': 63,\n",
              " 'audience': 64,\n",
              " 'take': 65,\n",
              " 'performance': 66,\n",
              " 'role': 67,\n",
              " 'may': 68,\n",
              " 'gets': 69,\n",
              " 'years': 70,\n",
              " 'real': 71,\n",
              " 'funny': 72,\n",
              " 'last': 73,\n",
              " 'look': 74,\n",
              " 'think': 75,\n",
              " 'things': 76,\n",
              " 'actually': 77,\n",
              " 'comedy': 78,\n",
              " 'although': 79,\n",
              " 'almost': 80,\n",
              " 'fact': 81,\n",
              " 'say': 82,\n",
              " 'played': 83,\n",
              " 'john': 84,\n",
              " 'nothing': 85,\n",
              " 'script': 86,\n",
              " 'thing': 87,\n",
              " 'find': 88,\n",
              " 'come': 89,\n",
              " 'plays': 90,\n",
              " 'since': 91,\n",
              " 'young': 92,\n",
              " 'ever': 93,\n",
              " 'right': 94,\n",
              " 'cast': 95,\n",
              " 'old': 96,\n",
              " 'year': 97,\n",
              " 'comes': 98,\n",
              " 'long': 99,\n",
              " 'original': 100,\n",
              " 'show': 101,\n",
              " 'part': 102,\n",
              " 'actors': 103,\n",
              " 'star': 104,\n",
              " 'acting': 105,\n",
              " 'lot': 106,\n",
              " 'least': 107,\n",
              " 'without': 108,\n",
              " 'goes': 109,\n",
              " 'takes': 110,\n",
              " 'away': 111,\n",
              " 'point': 112,\n",
              " 'three': 113,\n",
              " 'family': 114,\n",
              " 'course': 115,\n",
              " 'quite': 116,\n",
              " 'screen': 117,\n",
              " 'minutes': 118,\n",
              " 'might': 119,\n",
              " 'rather': 120,\n",
              " 'ca': 121,\n",
              " 'interesting': 122,\n",
              " 'day': 123,\n",
              " 'anything': 124,\n",
              " 'far': 125,\n",
              " 'yet': 126,\n",
              " 'guy': 127,\n",
              " 'effects': 128,\n",
              " 'must': 129,\n",
              " 'place': 130,\n",
              " 'watch': 131,\n",
              " 'bit': 132,\n",
              " 'seem': 133,\n",
              " 'fun': 134,\n",
              " 'actor': 135,\n",
              " 'want': 136,\n",
              " 'series': 137,\n",
              " 'trying': 138,\n",
              " 'always': 139,\n",
              " 'instead': 140,\n",
              " 'sense': 141,\n",
              " 'special': 142,\n",
              " 'times': 143,\n",
              " 'making': 144,\n",
              " 'everything': 145,\n",
              " 'give': 146,\n",
              " 'job': 147,\n",
              " 'probably': 148,\n",
              " 'wife': 149,\n",
              " 'hollywood': 150,\n",
              " 'men': 151,\n",
              " 'set': 152,\n",
              " 'woman': 153,\n",
              " 'help': 154,\n",
              " 'kind': 155,\n",
              " 'becomes': 156,\n",
              " 'home': 157,\n",
              " 'together': 158,\n",
              " 'pretty': 159,\n",
              " 'american': 160,\n",
              " 'along': 161,\n",
              " 'picture': 162,\n",
              " 'sure': 163,\n",
              " 'dialogue': 164,\n",
              " 'money': 165,\n",
              " 'become': 166,\n",
              " 'high': 167,\n",
              " 'gives': 168,\n",
              " 'given': 169,\n",
              " 'hard': 170,\n",
              " 'wants': 171,\n",
              " 'whole': 172,\n",
              " 'everyone': 173,\n",
              " 'got': 174,\n",
              " 'watching': 175,\n",
              " 'father': 176,\n",
              " 'less': 177,\n",
              " 'black': 178,\n",
              " 'music': 179,\n",
              " 'next': 180,\n",
              " 'perhaps': 181,\n",
              " 'play': 182,\n",
              " 'feel': 183,\n",
              " 'done': 184,\n",
              " 'city': 185,\n",
              " 'reason': 186,\n",
              " 'completely': 187,\n",
              " 'moments': 188,\n",
              " 'evil': 189,\n",
              " 'looks': 190,\n",
              " 'especially': 191,\n",
              " 'james': 192,\n",
              " 'couple': 193,\n",
              " 'horror': 194,\n",
              " 'whose': 195,\n",
              " 'ending': 196,\n",
              " 'getting': 197,\n",
              " 'performances': 198,\n",
              " 'girl': 199,\n",
              " 'rest': 200,\n",
              " 'sex': 201,\n",
              " 'humor': 202,\n",
              " 'looking': 203,\n",
              " 'put': 204,\n",
              " 'different': 205,\n",
              " 'simply': 206,\n",
              " 'let': 207,\n",
              " '2': 208,\n",
              " 'night': 209,\n",
              " 'mind': 210,\n",
              " 'shows': 211,\n",
              " 'case': 212,\n",
              " 'line': 213,\n",
              " 'anyone': 214,\n",
              " 'several': 215,\n",
              " 'main': 216,\n",
              " 'friends': 217,\n",
              " 'entire': 218,\n",
              " 'michael': 219,\n",
              " 'mother': 220,\n",
              " 'small': 221,\n",
              " 'death': 222,\n",
              " 'left': 223,\n",
              " 'final': 224,\n",
              " 'school': 225,\n",
              " 'alien': 226,\n",
              " 'either': 227,\n",
              " 'else': 228,\n",
              " 'turns': 229,\n",
              " 'lost': 230,\n",
              " 'problem': 231,\n",
              " 'town': 232,\n",
              " 'use': 233,\n",
              " 'found': 234,\n",
              " 'human': 235,\n",
              " 'friend': 236,\n",
              " 'someone': 237,\n",
              " 'group': 238,\n",
              " 'tries': 239,\n",
              " 'used': 240,\n",
              " 'begins': 241,\n",
              " 'written': 242,\n",
              " 'soon': 243,\n",
              " 'idea': 244,\n",
              " 'unfortunately': 245,\n",
              " 'david': 246,\n",
              " 'true': 247,\n",
              " 'believe': 248,\n",
              " 'stars': 249,\n",
              " 'thought': 250,\n",
              " 'half': 251,\n",
              " 'later': 252,\n",
              " 'keep': 253,\n",
              " 'comic': 254,\n",
              " 'works': 255,\n",
              " 'dead': 256,\n",
              " 'often': 257,\n",
              " 'wrong': 258,\n",
              " 'war': 259,\n",
              " 'second': 260,\n",
              " 'tv': 261,\n",
              " 'name': 262,\n",
              " 'house': 263,\n",
              " 'behind': 264,\n",
              " 'able': 265,\n",
              " 'relationship': 266,\n",
              " 'called': 267,\n",
              " 'based': 268,\n",
              " 'head': 269,\n",
              " 'certainly': 270,\n",
              " 'person': 271,\n",
              " 'named': 272,\n",
              " 'shot': 273,\n",
              " 'turn': 274,\n",
              " 'playing': 275,\n",
              " 'said': 276,\n",
              " 'perfect': 277,\n",
              " 'nice': 278,\n",
              " 'boy': 279,\n",
              " 'sequence': 280,\n",
              " 'tell': 281,\n",
              " 'including': 282,\n",
              " 'finally': 283,\n",
              " 'maybe': 284,\n",
              " 'days': 285,\n",
              " 'entertaining': 286,\n",
              " 'camera': 287,\n",
              " 'lines': 288,\n",
              " 'run': 289,\n",
              " 'despite': 290,\n",
              " 'past': 291,\n",
              " 'seeing': 292,\n",
              " 'lives': 293,\n",
              " 'hand': 294,\n",
              " 'need': 295,\n",
              " 'son': 296,\n",
              " 'finds': 297,\n",
              " 'style': 298,\n",
              " 'short': 299,\n",
              " 'mr': 300,\n",
              " 'game': 301,\n",
              " 'fight': 302,\n",
              " 'worth': 303,\n",
              " 'children': 304,\n",
              " 'side': 305,\n",
              " 'kevin': 306,\n",
              " 'moment': 307,\n",
              " 'starts': 308,\n",
              " 'full': 309,\n",
              " 'matter': 310,\n",
              " 'dark': 311,\n",
              " 'jackie': 312,\n",
              " 'jack': 313,\n",
              " 'try': 314,\n",
              " 'upon': 315,\n",
              " 'live': 316,\n",
              " 'worst': 317,\n",
              " 'directed': 318,\n",
              " 'face': 319,\n",
              " 'joe': 320,\n",
              " 'car': 321,\n",
              " 'running': 322,\n",
              " 'hour': 323,\n",
              " 'women': 324,\n",
              " 'start': 325,\n",
              " 'care': 326,\n",
              " 'kids': 327,\n",
              " 'team': 328,\n",
              " 'book': 329,\n",
              " 'top': 330,\n",
              " 'beautiful': 331,\n",
              " 'summer': 332,\n",
              " 'supposed': 333,\n",
              " 'problems': 334,\n",
              " 'major': 335,\n",
              " 'violence': 336,\n",
              " 'screenplay': 337,\n",
              " 'direction': 338,\n",
              " 'roles': 339,\n",
              " 'order': 340,\n",
              " 'review': 341,\n",
              " 'early': 342,\n",
              " 'throughout': 343,\n",
              " 'obvious': 344,\n",
              " 'nearly': 345,\n",
              " 'white': 346,\n",
              " 'daughter': 347,\n",
              " 'production': 348,\n",
              " 'earth': 349,\n",
              " 'example': 350,\n",
              " 'fine': 351,\n",
              " 'drama': 352,\n",
              " 'version': 353,\n",
              " 'title': 354,\n",
              " 'lee': 355,\n",
              " 'kill': 356,\n",
              " 'opening': 357,\n",
              " 'sequences': 358,\n",
              " 'video': 359,\n",
              " 'jokes': 360,\n",
              " 'exactly': 361,\n",
              " 'already': 362,\n",
              " 'others': 363,\n",
              " 'eyes': 364,\n",
              " 'supporting': 365,\n",
              " 'robert': 366,\n",
              " 'hit': 367,\n",
              " 'simple': 368,\n",
              " 'sometimes': 369,\n",
              " 'act': 370,\n",
              " 'save': 371,\n",
              " 'question': 372,\n",
              " 'classic': 373,\n",
              " 'boring': 374,\n",
              " 'scream': 375,\n",
              " 'sort': 376,\n",
              " 'peter': 377,\n",
              " 'coming': 378,\n",
              " 'husband': 379,\n",
              " 'knows': 380,\n",
              " 'dr': 381,\n",
              " 'york': 382,\n",
              " 'truly': 383,\n",
              " 'heart': 384,\n",
              " 'king': 385,\n",
              " 'attempt': 386,\n",
              " 'hope': 387,\n",
              " 'body': 388,\n",
              " 'known': 389,\n",
              " 'brother': 390,\n",
              " 'tom': 391,\n",
              " 'romantic': 392,\n",
              " 'yes': 393,\n",
              " 'space': 394,\n",
              " 'worse': 395,\n",
              " 'room': 396,\n",
              " 'child': 397,\n",
              " 'lead': 398,\n",
              " 'tells': 399,\n",
              " 'strong': 400,\n",
              " 'stupid': 401,\n",
              " 'killer': 402,\n",
              " 'four': 403,\n",
              " 'quickly': 404,\n",
              " 'guys': 405,\n",
              " 'beginning': 406,\n",
              " 'happens': 407,\n",
              " 'involved': 408,\n",
              " 'stop': 409,\n",
              " 'sound': 410,\n",
              " 'theater': 411,\n",
              " 'ends': 412,\n",
              " 'wo': 413,\n",
              " 'possible': 414,\n",
              " 'dog': 415,\n",
              " 'involving': 416,\n",
              " 'none': 417,\n",
              " 'fans': 418,\n",
              " 'disney': 419,\n",
              " 'attention': 420,\n",
              " 'fall': 421,\n",
              " 'smith': 422,\n",
              " 'level': 423,\n",
              " 'says': 424,\n",
              " 'five': 425,\n",
              " 'future': 426,\n",
              " 'career': 427,\n",
              " 'sets': 428,\n",
              " 'experience': 429,\n",
              " 'manages': 430,\n",
              " 'piece': 431,\n",
              " 'laughs': 432,\n",
              " 'voice': 433,\n",
              " 'battle': 434,\n",
              " 'mostly': 435,\n",
              " 'material': 436,\n",
              " 'deep': 437,\n",
              " 'laugh': 438,\n",
              " 'particularly': 439,\n",
              " 'planet': 440,\n",
              " 'lack': 441,\n",
              " 'saw': 442,\n",
              " 'hero': 443,\n",
              " 'wonder': 444,\n",
              " 'close': 445,\n",
              " 'alone': 446,\n",
              " 'taking': 447,\n",
              " 'usually': 448,\n",
              " 'de': 449,\n",
              " 'viewer': 450,\n",
              " 'murder': 451,\n",
              " 'hours': 452,\n",
              " 'whether': 453,\n",
              " 'elements': 454,\n",
              " 'george': 455,\n",
              " 'emotional': 456,\n",
              " 'interest': 457,\n",
              " 'mean': 458,\n",
              " 'eventually': 459,\n",
              " 'appears': 460,\n",
              " 'falls': 461,\n",
              " 'police': 462,\n",
              " 'novel': 463,\n",
              " 'except': 464,\n",
              " 'feeling': 465,\n",
              " 'late': 466,\n",
              " 'talent': 467,\n",
              " 'enjoy': 468,\n",
              " 'attempts': 469,\n",
              " 'taken': 470,\n",
              " 'ship': 471,\n",
              " 'result': 472,\n",
              " 'talk': 473,\n",
              " 'living': 474,\n",
              " 'genre': 475,\n",
              " 'single': 476,\n",
              " 'thriller': 477,\n",
              " 'extremely': 478,\n",
              " 'sequel': 479,\n",
              " 'note': 480,\n",
              " 'paul': 481,\n",
              " 'hell': 482,\n",
              " 'obviously': 483,\n",
              " 'words': 484,\n",
              " 'ryan': 485,\n",
              " 'bring': 486,\n",
              " 'oscar': 487,\n",
              " 'chris': 488,\n",
              " 'across': 489,\n",
              " 'guess': 490,\n",
              " 'success': 491,\n",
              " 'poor': 492,\n",
              " 'art': 493,\n",
              " 'history': 494,\n",
              " 'fiction': 495,\n",
              " 'among': 496,\n",
              " 'feature': 497,\n",
              " 'easy': 498,\n",
              " 'forced': 499,\n",
              " 'williams': 500,\n",
              " 'robin': 501,\n",
              " 'deal': 502,\n",
              " 'happen': 503,\n",
              " 'aliens': 504,\n",
              " 'god': 505,\n",
              " 'parts': 506,\n",
              " 'killed': 507,\n",
              " 'leads': 508,\n",
              " 'release': 509,\n",
              " 'change': 510,\n",
              " 'seemed': 511,\n",
              " 'important': 512,\n",
              " 'girlfriend': 513,\n",
              " 'william': 514,\n",
              " '3': 515,\n",
              " 'score': 516,\n",
              " 'power': 517,\n",
              " 'released': 518,\n",
              " 'wonderful': 519,\n",
              " 'within': 520,\n",
              " 'girls': 521,\n",
              " 'mission': 522,\n",
              " 'features': 523,\n",
              " 'van': 524,\n",
              " 'word': 525,\n",
              " 'meet': 526,\n",
              " 'bob': 527,\n",
              " 'entertainment': 528,\n",
              " 'needs': 529,\n",
              " 'premise': 530,\n",
              " 'leave': 531,\n",
              " 'hilarious': 532,\n",
              " 'expect': 533,\n",
              " 'number': 534,\n",
              " 'chance': 535,\n",
              " 'told': 536,\n",
              " '1': 537,\n",
              " 'computer': 538,\n",
              " 'wild': 539,\n",
              " 'serious': 540,\n",
              " 'recent': 541,\n",
              " 'working': 542,\n",
              " 'giving': 543,\n",
              " 'happy': 544,\n",
              " 'surprise': 545,\n",
              " 'basically': 546,\n",
              " 'personal': 547,\n",
              " 'quality': 548,\n",
              " 'impressive': 549,\n",
              " 'america': 550,\n",
              " 'feels': 551,\n",
              " 'dramatic': 552,\n",
              " 'batman': 553,\n",
              " 'call': 554,\n",
              " 'apparently': 555,\n",
              " 'meets': 556,\n",
              " 'events': 557,\n",
              " 'somehow': 558,\n",
              " 'television': 559,\n",
              " 'ben': 560,\n",
              " 'brings': 561,\n",
              " 'brilliant': 562,\n",
              " 'stuff': 563,\n",
              " 'cool': 564,\n",
              " 'ago': 565,\n",
              " 'prison': 566,\n",
              " 'romance': 567,\n",
              " 'anyway': 568,\n",
              " 'ways': 569,\n",
              " 'kid': 570,\n",
              " 'due': 571,\n",
              " 'easily': 572,\n",
              " 'science': 573,\n",
              " 'complete': 574,\n",
              " 'local': 575,\n",
              " 'crime': 576,\n",
              " 'jim': 577,\n",
              " 'credits': 578,\n",
              " 'filmmakers': 579,\n",
              " 'effective': 580,\n",
              " 'somewhat': 581,\n",
              " 'oh': 582,\n",
              " 'parents': 583,\n",
              " 'mystery': 584,\n",
              " 'using': 585,\n",
              " 'intelligent': 586,\n",
              " 'crew': 587,\n",
              " 'annoying': 588,\n",
              " 'difficult': 589,\n",
              " 'tale': 590,\n",
              " 'suspense': 591,\n",
              " 'martin': 592,\n",
              " 'form': 593,\n",
              " 'remember': 594,\n",
              " 'project': 595,\n",
              " 'writing': 596,\n",
              " 'decides': 597,\n",
              " 'brothers': 598,\n",
              " 'die': 599,\n",
              " 'popular': 600,\n",
              " 'went': 601,\n",
              " 'uses': 602,\n",
              " 'flick': 603,\n",
              " 'party': 604,\n",
              " 'familiar': 605,\n",
              " 'presence': 606,\n",
              " 'middle': 607,\n",
              " 'former': 608,\n",
              " 'predictable': 609,\n",
              " 'turned': 610,\n",
              " 'figure': 611,\n",
              " 'general': 612,\n",
              " 'following': 613,\n",
              " 'cameron': 614,\n",
              " 'successful': 615,\n",
              " 'previous': 616,\n",
              " 'surprisingly': 617,\n",
              " 'reality': 618,\n",
              " 'definitely': 619,\n",
              " 'harry': 620,\n",
              " 'usual': 621,\n",
              " 'excellent': 622,\n",
              " 'similar': 623,\n",
              " 'wars': 624,\n",
              " 'read': 625,\n",
              " 'came': 626,\n",
              " 'beyond': 627,\n",
              " 'cop': 628,\n",
              " 'business': 629,\n",
              " 'third': 630,\n",
              " 'murphy': 631,\n",
              " 'begin': 632,\n",
              " 'towards': 633,\n",
              " 'blood': 634,\n",
              " 'return': 635,\n",
              " 'light': 636,\n",
              " 'starring': 637,\n",
              " 'doubt': 638,\n",
              " 'rich': 639,\n",
              " 'message': 640,\n",
              " 'red': 641,\n",
              " 'talking': 642,\n",
              " 'cinema': 643,\n",
              " 'cut': 644,\n",
              " 'latest': 645,\n",
              " 'bill': 646,\n",
              " 'certain': 647,\n",
              " 'actress': 648,\n",
              " 'visual': 649,\n",
              " 'company': 650,\n",
              " 'sexual': 651,\n",
              " 'present': 652,\n",
              " 'huge': 653,\n",
              " 'absolutely': 654,\n",
              " 'effect': 655,\n",
              " 'type': 656,\n",
              " 'situation': 657,\n",
              " 'gone': 658,\n",
              " 'bruce': 659,\n",
              " 'solid': 660,\n",
              " 'runs': 661,\n",
              " 'clever': 662,\n",
              " 'writer': 663,\n",
              " 'potential': 664,\n",
              " 'seriously': 665,\n",
              " 'clear': 666,\n",
              " 'million': 667,\n",
              " 'office': 668,\n",
              " '4': 669,\n",
              " 'straight': 670,\n",
              " 'stories': 671,\n",
              " 'married': 672,\n",
              " 'jones': 673,\n",
              " 'country': 674,\n",
              " 'powerful': 675,\n",
              " 'moving': 676,\n",
              " 'scott': 677,\n",
              " 'smart': 678,\n",
              " 'shots': 679,\n",
              " 'giant': 680,\n",
              " 'created': 681,\n",
              " 'opens': 682,\n",
              " 'means': 683,\n",
              " 'strange': 684,\n",
              " 'viewers': 685,\n",
              " 'create': 686,\n",
              " 'felt': 687,\n",
              " 'subject': 688,\n",
              " 'eddie': 689,\n",
              " 'carter': 690,\n",
              " 'stone': 691,\n",
              " 'scary': 692,\n",
              " 'leaving': 693,\n",
              " 'ones': 694,\n",
              " 'saying': 695,\n",
              " 'agent': 696,\n",
              " 'immediately': 697,\n",
              " 'move': 698,\n",
              " 'leaves': 699,\n",
              " 'force': 700,\n",
              " 'keeps': 701,\n",
              " 'likely': 702,\n",
              " 'questions': 703,\n",
              " 'situations': 704,\n",
              " 'villain': 705,\n",
              " 'plan': 706,\n",
              " 'allen': 707,\n",
              " 'bond': 708,\n",
              " 'stay': 709,\n",
              " 'bunch': 710,\n",
              " 'tim': 711,\n",
              " 'fails': 712,\n",
              " 'thinking': 713,\n",
              " 'add': 714,\n",
              " 'follows': 715,\n",
              " 'decent': 716,\n",
              " 'rock': 717,\n",
              " 'nature': 718,\n",
              " 'large': 719,\n",
              " 'enjoyable': 720,\n",
              " 'took': 721,\n",
              " 'secret': 722,\n",
              " 'learn': 723,\n",
              " 'near': 724,\n",
              " 'neither': 725,\n",
              " 'appear': 726,\n",
              " 'musical': 727,\n",
              " 'amazing': 728,\n",
              " 'realize': 729,\n",
              " 'brought': 730,\n",
              " 'richard': 731,\n",
              " 'studio': 732,\n",
              " 'dumb': 733,\n",
              " 'sam': 734,\n",
              " 'water': 735,\n",
              " 'dream': 736,\n",
              " 'view': 737,\n",
              " 'motion': 738,\n",
              " 'chan': 739,\n",
              " 'understand': 740,\n",
              " 'private': 741,\n",
              " 'wanted': 742,\n",
              " 'filled': 743,\n",
              " 'break': 744,\n",
              " 'various': 745,\n",
              " 'overall': 746,\n",
              " 'ability': 747,\n",
              " 'ultimately': 748,\n",
              " 'spend': 749,\n",
              " 'exciting': 750,\n",
              " 'earlier': 751,\n",
              " 'happened': 752,\n",
              " 'audiences': 753,\n",
              " 'society': 754,\n",
              " 'perfectly': 755,\n",
              " 'animated': 756,\n",
              " 'truth': 757,\n",
              " 'inside': 758,\n",
              " 'sweet': 759,\n",
              " 'r': 760,\n",
              " 'heard': 761,\n",
              " 'unlike': 762,\n",
              " 'mark': 763,\n",
              " 'woody': 764,\n",
              " 'impossible': 765,\n",
              " 'law': 766,\n",
              " 'fan': 767,\n",
              " 'age': 768,\n",
              " 'ten': 769,\n",
              " 'slow': 770,\n",
              " 'trouble': 771,\n",
              " 'otherwise': 772,\n",
              " 'offers': 773,\n",
              " 'pay': 774,\n",
              " '10': 775,\n",
              " 'follow': 776,\n",
              " 'nick': 777,\n",
              " 'godzilla': 778,\n",
              " 'steve': 779,\n",
              " 'points': 780,\n",
              " 'liked': 781,\n",
              " 'subplot': 782,\n",
              " 'chase': 783,\n",
              " 'escape': 784,\n",
              " 'political': 785,\n",
              " 'silly': 786,\n",
              " 'trek': 787,\n",
              " 'members': 788,\n",
              " 'willis': 789,\n",
              " 'box': 790,\n",
              " 'hands': 791,\n",
              " 'cold': 792,\n",
              " 'particular': 793,\n",
              " 'mike': 794,\n",
              " 'memorable': 795,\n",
              " 'talented': 796,\n",
              " 'merely': 797,\n",
              " 'park': 798,\n",
              " 'wedding': 799,\n",
              " 'greatest': 800,\n",
              " 'focus': 801,\n",
              " 'waste': 802,\n",
              " 'terrible': 803,\n",
              " 'soundtrack': 804,\n",
              " 'moves': 805,\n",
              " 'showing': 806,\n",
              " 'english': 807,\n",
              " 'eye': 808,\n",
              " 'master': 809,\n",
              " 'control': 810,\n",
              " 'amusing': 811,\n",
              " 'plenty': 812,\n",
              " 'ii': 813,\n",
              " 'wait': 814,\n",
              " 'convincing': 815,\n",
              " 'max': 816,\n",
              " 'sees': 817,\n",
              " 'open': 818,\n",
              " 'mary': 819,\n",
              " 'fast': 820,\n",
              " 'queen': 821,\n",
              " 'army': 822,\n",
              " 'purpose': 823,\n",
              " 'state': 824,\n",
              " 'effort': 825,\n",
              " 'government': 826,\n",
              " 'mess': 827,\n",
              " 'fairly': 828,\n",
              " 'element': 829,\n",
              " 'l': 830,\n",
              " 'brown': 831,\n",
              " 'tension': 832,\n",
              " 'rating': 833,\n",
              " 'background': 834,\n",
              " 'typical': 835,\n",
              " 'carrey': 836,\n",
              " 'constantly': 837,\n",
              " 'totally': 838,\n",
              " 'fear': 839,\n",
              " 'steven': 840,\n",
              " 'entirely': 841,\n",
              " 'humans': 842,\n",
              " 'chemistry': 843,\n",
              " 'favorite': 844,\n",
              " 'actual': 845,\n",
              " 'setting': 846,\n",
              " 'thinks': 847,\n",
              " 'choice': 848,\n",
              " 'biggest': 849,\n",
              " 'dull': 850,\n",
              " 'brief': 851,\n",
              " 'e': 852,\n",
              " 'subtle': 853,\n",
              " 'sister': 854,\n",
              " 'grace': 855,\n",
              " 'cinematography': 856,\n",
              " 'aspect': 857,\n",
              " 'disaster': 858,\n",
              " 'slightly': 859,\n",
              " 'realistic': 860,\n",
              " 'atmosphere': 861,\n",
              " 'shown': 862,\n",
              " 'credit': 863,\n",
              " 'ridiculous': 864,\n",
              " 'female': 865,\n",
              " 'believable': 866,\n",
              " 'killing': 867,\n",
              " 'dreams': 868,\n",
              " 'cheap': 869,\n",
              " 'hate': 870,\n",
              " 'sean': 871,\n",
              " 'cinematic': 872,\n",
              " 'today': 873,\n",
              " 'joke': 874,\n",
              " 'outside': 875,\n",
              " 'frank': 876,\n",
              " 'screenwriter': 877,\n",
              " 'west': 878,\n",
              " 'street': 879,\n",
              " 'spent': 880,\n",
              " 'jackson': 881,\n",
              " 'island': 882,\n",
              " 'approach': 883,\n",
              " 'meanwhile': 884,\n",
              " 'images': 885,\n",
              " 'indeed': 886,\n",
              " 'seven': 887,\n",
              " 'drug': 888,\n",
              " 'gun': 889,\n",
              " 'carry': 890,\n",
              " 'pace': 891,\n",
              " 'gave': 892,\n",
              " 'modern': 893,\n",
              " 'depth': 894,\n",
              " 'opportunity': 895,\n",
              " 'key': 896,\n",
              " 'hold': 897,\n",
              " 'longer': 898,\n",
              " 'sight': 899,\n",
              " 'song': 900,\n",
              " 'okay': 901,\n",
              " 'teen': 902,\n",
              " 'leader': 903,\n",
              " 'sit': 904,\n",
              " 'list': 905,\n",
              " 'amount': 906,\n",
              " 'beauty': 907,\n",
              " 'charm': 908,\n",
              " 'stand': 909,\n",
              " 'violent': 910,\n",
              " 'ask': 911,\n",
              " 'class': 912,\n",
              " 'race': 913,\n",
              " 'central': 914,\n",
              " 'ideas': 915,\n",
              " 'casting': 916,\n",
              " 'tone': 917,\n",
              " 'british': 918,\n",
              " 'college': 919,\n",
              " 'period': 920,\n",
              " 'basic': 921,\n",
              " 'common': 922,\n",
              " 'puts': 923,\n",
              " 'wish': 924,\n",
              " 'delivers': 925,\n",
              " 'member': 926,\n",
              " 'wrote': 927,\n",
              " 'u': 928,\n",
              " 'budget': 929,\n",
              " 'quick': 930,\n",
              " 'club': 931,\n",
              " 'clearly': 932,\n",
              " 'impact': 933,\n",
              " 'expected': 934,\n",
              " 'hardly': 935,\n",
              " 'air': 936,\n",
              " 'theme': 937,\n",
              " 'free': 938,\n",
              " 'intelligence': 939,\n",
              " 'development': 940,\n",
              " 'asks': 941,\n",
              " 'hear': 942,\n",
              " 'appearance': 943,\n",
              " 'complex': 944,\n",
              " 'detective': 945,\n",
              " 'miss': 946,\n",
              " '1998': 947,\n",
              " 'animation': 948,\n",
              " 'front': 949,\n",
              " 'lies': 950,\n",
              " 'possibly': 951,\n",
              " 'titanic': 952,\n",
              " 'proves': 953,\n",
              " 'flaws': 954,\n",
              " 'decide': 955,\n",
              " 'somewhere': 956,\n",
              " 'awful': 957,\n",
              " 'leading': 958,\n",
              " 'mars': 959,\n",
              " 'lots': 960,\n",
              " 'saving': 961,\n",
              " 'wasted': 962,\n",
              " 'provides': 963,\n",
              " 'details': 964,\n",
              " 'writers': 965,\n",
              " 'thus': 966,\n",
              " 'language': 967,\n",
              " 'consider': 968,\n",
              " 'waiting': 969,\n",
              " 'band': 970,\n",
              " 'reasons': 971,\n",
              " 'energy': 972,\n",
              " 'critics': 973,\n",
              " 'recently': 974,\n",
              " 'minor': 975,\n",
              " 'aside': 976,\n",
              " 'terrific': 977,\n",
              " 'missing': 978,\n",
              " 'interested': 979,\n",
              " 'caught': 980,\n",
              " 'worked': 981,\n",
              " 'b': 982,\n",
              " 'french': 983,\n",
              " 'j': 984,\n",
              " 'alive': 985,\n",
              " 'slowly': 986,\n",
              " 'knew': 987,\n",
              " 'fire': 988,\n",
              " 'truman': 989,\n",
              " 'tarantino': 990,\n",
              " 'boys': 991,\n",
              " 'write': 992,\n",
              " 'imagine': 993,\n",
              " 'thrown': 994,\n",
              " 'student': 995,\n",
              " 'la': 996,\n",
              " 'doctor': 997,\n",
              " 'incredibly': 998,\n",
              " 'contains': 999,\n",
              " 'president': 1000,\n",
              " ...}"
            ]
          },
          "metadata": {},
          "execution_count": 56
        }
      ],
      "source": [
        "tokenizer.word_index"
      ]
    },
    {
      "cell_type": "code",
      "source": [
        "tokenizer"
      ],
      "metadata": {
        "colab": {
          "base_uri": "https://localhost:8080/"
        },
        "id": "PQKxnHW65N3-",
        "outputId": "be9606a2-7ca0-4ee2-c905-8a7467cdd320"
      },
      "execution_count": null,
      "outputs": [
        {
          "output_type": "execute_result",
          "data": {
            "text/plain": [
              "<keras.src.preprocessing.text.Tokenizer at 0x7ce5acf489a0>"
            ]
          },
          "metadata": {},
          "execution_count": 128
        }
      ]
    },
    {
      "cell_type": "code",
      "source": [
        "txt_code = tokenizer.texts_to_sequences('really drug')\n",
        "txt = pad_sequences(txt_code, maxlen=max_len, padding='post')"
      ],
      "metadata": {
        "id": "YEsKCdqmjfeC"
      },
      "execution_count": null,
      "outputs": []
    },
    {
      "cell_type": "code",
      "source": [
        "txt_code"
      ],
      "metadata": {
        "colab": {
          "base_uri": "https://localhost:8080/"
        },
        "id": "yjdoGUqB5uaC",
        "outputId": "6069ba0e-5ffa-401a-ad58-38a44beaaac6"
      },
      "execution_count": null,
      "outputs": [
        {
          "output_type": "execute_result",
          "data": {
            "text/plain": [
              "[[715], [913], [], [822], [822], [], [], [], [], []]"
            ]
          },
          "metadata": {},
          "execution_count": 156
        }
      ]
    },
    {
      "cell_type": "code",
      "execution_count": null,
      "metadata": {
        "id": "q-YmTaRFWVRb",
        "colab": {
          "base_uri": "https://localhost:8080/"
        },
        "outputId": "bf832990-827c-46a5-f155-0a252e71a55f"
      },
      "outputs": [
        {
          "output_type": "stream",
          "name": "stdout",
          "text": [
            "1/1 [==============================] - 0s 32ms/step\n"
          ]
        }
      ],
      "source": [
        "t = model.predict(txt)"
      ]
    },
    {
      "cell_type": "code",
      "source": [
        "t"
      ],
      "metadata": {
        "colab": {
          "base_uri": "https://localhost:8080/"
        },
        "id": "EBVFkdNZ3OL7",
        "outputId": "0eac6095-7872-4d86-c171-9cbc5075ce1a"
      },
      "execution_count": null,
      "outputs": [
        {
          "output_type": "execute_result",
          "data": {
            "text/plain": [
              "array([[0.337248  ],\n",
              "       [0.33723092],\n",
              "       [0.3378893 ],\n",
              "       [0.33715907],\n",
              "       [0.33715907],\n",
              "       [0.3378893 ],\n",
              "       [0.3378893 ],\n",
              "       [0.3378893 ],\n",
              "       [0.3378893 ],\n",
              "       [0.3378893 ]], dtype=float32)"
            ]
          },
          "metadata": {},
          "execution_count": 158
        }
      ]
    },
    {
      "cell_type": "code",
      "source": [
        "text = tokenizer.sequences_to_texts(t)"
      ],
      "metadata": {
        "id": "JaL7INtj1zDg"
      },
      "execution_count": null,
      "outputs": []
    },
    {
      "cell_type": "code",
      "source": [
        "text"
      ],
      "metadata": {
        "colab": {
          "base_uri": "https://localhost:8080/"
        },
        "id": "AzNuycCg1_HQ",
        "outputId": "8c593b08-bcfe-4859-d8a8-a07e35eee320"
      },
      "execution_count": null,
      "outputs": [
        {
          "output_type": "execute_result",
          "data": {
            "text/plain": [
              "['', '', '', '', '', '', '', '', '', '']"
            ]
          },
          "metadata": {},
          "execution_count": 160
        }
      ]
    }
  ],
  "metadata": {
    "kernelspec": {
      "display_name": "Python 3 (ipykernel)",
      "language": "python",
      "name": "python3"
    },
    "language_info": {
      "codemirror_mode": {
        "name": "ipython",
        "version": 3
      },
      "file_extension": ".py",
      "mimetype": "text/x-python",
      "name": "python",
      "nbconvert_exporter": "python",
      "pygments_lexer": "ipython3",
      "version": "3.10.12"
    },
    "colab": {
      "provenance": [],
      "include_colab_link": true
    }
  },
  "nbformat": 4,
  "nbformat_minor": 0
}